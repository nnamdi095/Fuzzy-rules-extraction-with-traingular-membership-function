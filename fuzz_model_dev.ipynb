{
 "cells": [
  {
   "cell_type": "markdown",
   "metadata": {},
   "source": [
    "## Model Development"
   ]
  },
  {
   "cell_type": "code",
   "execution_count": 3,
   "metadata": {},
   "outputs": [],
   "source": [
    "import pandas as pd\n",
    "import skfuzzy as fuzz\n",
    "import numpy as np\n",
    "from skfuzzy import control as ctrl\n",
    "import matplotlib.pyplot as plt"
   ]
  },
  {
   "cell_type": "code",
   "execution_count": 4,
   "metadata": {},
   "outputs": [],
   "source": [
    "from ipynb.fs.full.weather_data_preprocess import data, train_data, test_data"
   ]
  },
  {
   "cell_type": "code",
   "execution_count": 3,
   "metadata": {},
   "outputs": [],
   "source": [
    "def get_range(data):\n",
    "    data_range = pd.DataFrame(columns = data.columns, index = ['max', 'min'])\n",
    "    data_range.loc['max'] = [data[col].max() for col in data.columns]\n",
    "    data_range.loc['min'] = [data[col].min() for col in data.columns]\n",
    "    return data_range\n",
    "\n",
    "range_df = get_range(data)"
   ]
  },
  {
   "cell_type": "code",
   "execution_count": 4,
   "metadata": {},
   "outputs": [],
   "source": [
    "#Specifying the universe of discourse\n",
    "\n",
    "universe = []\n",
    "for col in range_df.columns:\n",
    "        universe_col = np.arange(np.floor(range_df[col].min()), np.ceil(range_df[col].max()+1), 0.1)\n",
    "        universe.append(universe_col)"
   ]
  },
  {
   "cell_type": "code",
   "execution_count": 5,
   "metadata": {},
   "outputs": [],
   "source": [
    "# Median\n",
    "\n",
    "def med(l, u):\n",
    "    return np.median(np.arange(l, u, 0.1))"
   ]
  },
  {
   "cell_type": "code",
   "execution_count": 6,
   "metadata": {},
   "outputs": [],
   "source": [
    "hum_lo  = fuzz.trimf(universe[0], [68, 68, med(68,83)])\n",
    "hum_mid = fuzz.trimf(universe[0], [68, med(68,83), 84])\n",
    "hum_hi  =  fuzz.trimf(universe[0], [med(68,83), 84, 84])\n",
    "\n",
    "temp_lo  = fuzz.trimf(universe[1], [23, 23, med(23,26.1)])\n",
    "temp_mid = fuzz.trimf(universe[1], [23, med(23,26.1), 26])\n",
    "temp_hi  = fuzz.trimf(universe[1], [med(23,26.1), 26, 26])\n",
    "\n",
    "\n",
    "heat_lo  = fuzz.trimf(universe[2], [23.3, 23.3, med(23.3,25.7)])\n",
    "heat_mid = fuzz.trimf(universe[2], [23.3, med(23.3,25.7), 25.7])\n",
    "heat_hi  = fuzz.trimf(universe[2], [med(23.3,25.7), 25.7, 25.7])"
   ]
  },
  {
   "cell_type": "code",
   "execution_count": 7,
   "metadata": {
    "scrolled": true
   },
   "outputs": [],
   "source": [
    "def fuzzify_hum(hum_val):\n",
    "    hum_df = pd.DataFrame(hum_val)\n",
    "    hum_df['low'] = fuzz.interp_membership(universe[0], hum_lo, hum_val)\n",
    "    hum_df['mid'] = fuzz.interp_membership(universe[0], hum_mid, hum_val)\n",
    "    hum_df['high'] = fuzz.interp_membership(universe[0], hum_hi, hum_val)\n",
    "\n",
    "    hum_df['membership'] = hum_df.loc[:, ['low', 'mid', 'high']].idxmax(axis = 1)\n",
    "    hum_df['degree'] = hum_df.loc[:, ['low', 'mid', 'high']].max(axis = 1)\n",
    "    return hum_df\n",
    "\n",
    "hum_val = train_data.iloc[:,0]\n",
    "hum_df = fuzzify_hum(hum_val)"
   ]
  },
  {
   "cell_type": "code",
   "execution_count": 8,
   "metadata": {
    "scrolled": true
   },
   "outputs": [],
   "source": [
    "def fuzzify_temp(temp_val):\n",
    "    temp_df = pd.DataFrame(temp_val)\n",
    "    temp_df['low'] = fuzz.interp_membership(universe[1], temp_lo, temp_val)\n",
    "    temp_df['mid'] = fuzz.interp_membership(universe[1], temp_mid, temp_val)\n",
    "    temp_df['high'] = fuzz.interp_membership(universe[1], temp_hi, temp_val)\n",
    "\n",
    "    temp_df['membership'] = temp_df.loc[:, ['low', 'mid', 'high']].idxmax(axis = 1)\n",
    "    temp_df['degree'] = temp_df.loc[:, ['low', 'mid', 'high']].max(axis = 1)\n",
    "    return temp_df\n",
    "temp_val  = train_data.iloc[:,1]       \n",
    "temp_df = fuzzify_temp(temp_val)"
   ]
  },
  {
   "cell_type": "code",
   "execution_count": 9,
   "metadata": {
    "scrolled": true
   },
   "outputs": [],
   "source": [
    "def fuzzify_heat(heat_val):\n",
    "    heat_df = pd.DataFrame(heat_val)\n",
    "    heat_df['low'] = fuzz.interp_membership(universe[2], heat_lo, heat_val)\n",
    "    heat_df['mid'] = fuzz.interp_membership(universe[2], heat_mid,heat_val)\n",
    "    heat_df['high'] = fuzz.interp_membership(universe[2],heat_hi, heat_val)\n",
    "\n",
    "    heat_df['membership'] = heat_df.loc[:, ['low', 'mid', 'high']].idxmax(axis = 1)\n",
    "    heat_df['degree'] = heat_df.loc[:, ['low', 'mid', 'high']].max(axis = 1)\n",
    "    return heat_df\n",
    "heat_val = train_data.iloc[:,2]\n",
    "heat_df = fuzzify_heat(heat_val)"
   ]
  },
  {
   "cell_type": "code",
   "execution_count": 10,
   "metadata": {},
   "outputs": [],
   "source": [
    "# Merge the membership columns from predictors and target to get an initial rule set\n",
    "\n",
    "def merge_rule(df, hum_df, temp_df, heat_df):\n",
    "    rule_df = df.copy()\n",
    "    rule_df['humidity'] = hum_df['membership']\n",
    "    rule_df['temperature'] = temp_df['membership']\n",
    "    rule_df['heat'] = heat_df['membership']\n",
    "    rule_df['degree'] = hum_df['degree']*temp_df['degree']*heat_df['degree']\n",
    "    return rule_df\n",
    " \n",
    "rule_df = merge_rule(train_data, hum_df, temp_df, heat_df)\n",
    "rule_df;"
   ]
  },
  {
   "cell_type": "code",
   "execution_count": 11,
   "metadata": {},
   "outputs": [],
   "source": [
    "#Using max to get final rule set\n",
    "\n",
    "rule_fuzzy = rule_df.groupby(['humidity', 'temperature']).max()\n",
    "rule_fuzzy = rule_fuzzy.reset_index()\n",
    "rule_fuzzy_deg = rule_fuzzy.pop('degree')"
   ]
  }
 ],
 "metadata": {
  "kernelspec": {
   "display_name": "Python 3",
   "language": "python",
   "name": "python3"
  },
  "language_info": {
   "codemirror_mode": {
    "name": "ipython",
    "version": 3
   },
   "file_extension": ".py",
   "mimetype": "text/x-python",
   "name": "python",
   "nbconvert_exporter": "python",
   "pygments_lexer": "ipython3",
   "version": "3.7.1"
  }
 },
 "nbformat": 4,
 "nbformat_minor": 4
}
