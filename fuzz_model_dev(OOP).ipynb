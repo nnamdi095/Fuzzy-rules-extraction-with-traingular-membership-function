{
 "cells": [
  {
   "cell_type": "markdown",
   "metadata": {},
   "source": [
    "## Predictive Modelling\n",
    "  "
   ]
  },
  {
   "cell_type": "code",
   "execution_count": 1,
   "metadata": {},
   "outputs": [],
   "source": [
    "#Initiating start time\n",
    "import time\n",
    "time_start = time.perf_counter()"
   ]
  },
  {
   "cell_type": "code",
   "execution_count": 2,
   "metadata": {},
   "outputs": [],
   "source": [
    "from ipynb.fs.full.fuzz_model_dev import *"
   ]
  },
  {
   "cell_type": "code",
   "execution_count": 3,
   "metadata": {},
   "outputs": [],
   "source": [
    "#Setting up test data\n",
    "\n",
    "test_data.reset_index(drop=True, inplace=True)\n",
    "y_test = test_data.loc[:,'heat']"
   ]
  },
  {
   "cell_type": "code",
   "execution_count": 4,
   "metadata": {},
   "outputs": [],
   "source": [
    "#Fuzzifying test humidity\n",
    "\n",
    "test_hum_val = test_data.iloc[:,0]\n",
    "test_hum_df = fuzzify_hum(test_hum_val)"
   ]
  },
  {
   "cell_type": "code",
   "execution_count": 5,
   "metadata": {
    "scrolled": true
   },
   "outputs": [],
   "source": [
    "#Fuzzifying test temperature\n",
    "\n",
    "test_temp_val = test_data.iloc[:,1]\n",
    "test_temp_df = fuzzify_temp(test_temp_val)"
   ]
  },
  {
   "cell_type": "code",
   "execution_count": 6,
   "metadata": {
    "scrolled": true
   },
   "outputs": [],
   "source": [
    "#Defining the center of the fuzzy region\n",
    "\n",
    "def fuzzr_center(a, lr, mr, hr):\n",
    "    if a == 'low':\n",
    "        return range_df.loc['min','heat']+lr\n",
    "    elif a == 'mid':\n",
    "        return med(range_df.loc['min','heat'], range_df.loc['max','heat'])+mr\n",
    "    else:\n",
    "        return range_df.loc['max','heat']+hr"
   ]
  },
  {
   "cell_type": "code",
   "execution_count": 7,
   "metadata": {},
   "outputs": [],
   "source": [
    "# Applying a centroid defuzzification and evaluation\n",
    "\n",
    "from sklearn.metrics import r2_score, mean_squared_error\n",
    "ynum = np.zeros([y_test.shape[0], rule_fuzzy.shape[0]])\n",
    "ydenom = np.zeros([y_test.shape[0], rule_fuzzy.shape[0]])\n",
    "\n",
    "def defuzz(test_data, rule_fuzzy, lr, mr, hr):\n",
    "\n",
    "    for i, fser in test_data.iterrows():\n",
    "        for j, rser in rule_fuzzy.iterrows():\n",
    "            col = rser.values\n",
    "            rule_acx_num =test_hum_df.loc[i,col[0]] * test_temp_df.loc[i,col[1]]*fuzzr_center(col[2], lr, mr, hr)\n",
    "            rule_acx_denom =test_hum_df.loc[i,col[0]]*test_temp_df.loc[i,col[1]]\n",
    "            ynum[i,j] = rule_acx_num\n",
    "            ydenom[i,j] = rule_acx_denom\n",
    "        \n",
    "    sum_ynum = np.sum(ynum, axis=1)\n",
    "    sum_ydenom = np.sum(ydenom, axis=1)\n",
    "    y_pred = sum_ynum/sum_ydenom\n",
    "\n",
    "\n",
    "    model_r2 = r2_score(y_test, y_pred)\n",
    "    model_mse = mean_squared_error(y_test, y_pred)\n",
    "    \n",
    "    print((lr, mr, hr), model_r2, model_mse)"
   ]
  },
  {
   "cell_type": "code",
   "execution_count": 8,
   "metadata": {},
   "outputs": [
    {
     "name": "stdout",
     "output_type": "stream",
     "text": [
      "parameter          r2_score             rmse\n",
      "(-0.6, 1.0, 0) 0.9740261121057313 0.007093196396875854\n"
     ]
    }
   ],
   "source": [
    "print('parameter          r2_score             rmse')\n",
    "defuzz(test_data, rule_fuzzy, -0.6, 1.0, 0)"
   ]
  },
  {
   "cell_type": "code",
   "execution_count": 9,
   "metadata": {},
   "outputs": [
    {
     "name": "stdout",
     "output_type": "stream",
     "text": [
      " 22.0 sec \n"
     ]
    }
   ],
   "source": [
    "time_elapsed = (time.perf_counter() - time_start)\n",
    "print(\"%5.1f sec \" % (time_elapsed))"
   ]
  }
 ],
 "metadata": {
  "kernelspec": {
   "display_name": "Python 3",
   "language": "python",
   "name": "python3"
  },
  "language_info": {
   "codemirror_mode": {
    "name": "ipython",
    "version": 3
   },
   "file_extension": ".py",
   "mimetype": "text/x-python",
   "name": "python",
   "nbconvert_exporter": "python",
   "pygments_lexer": "ipython3",
   "version": "3.7.1"
  }
 },
 "nbformat": 4,
 "nbformat_minor": 4
}
