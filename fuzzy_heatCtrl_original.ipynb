{
 "cells": [
  {
   "cell_type": "code",
   "execution_count": 2,
   "metadata": {},
   "outputs": [],
   "source": [
    "import pandas as pd\n",
    "import skfuzzy as fuzz\n",
    "import numpy as np\n",
    "from skfuzzy import control as ctrl\n",
    "import matplotlib.pyplot as plt;"
   ]
  },
  {
   "cell_type": "code",
   "execution_count": 3,
   "metadata": {},
   "outputs": [
    {
     "data": {
      "text/html": [
       "<div>\n",
       "<style scoped>\n",
       "    .dataframe tbody tr th:only-of-type {\n",
       "        vertical-align: middle;\n",
       "    }\n",
       "\n",
       "    .dataframe tbody tr th {\n",
       "        vertical-align: top;\n",
       "    }\n",
       "\n",
       "    .dataframe thead th {\n",
       "        text-align: right;\n",
       "    }\n",
       "</style>\n",
       "<table border=\"1\" class=\"dataframe\">\n",
       "  <thead>\n",
       "    <tr style=\"text-align: right;\">\n",
       "      <th></th>\n",
       "      <th>heat index</th>\n",
       "      <th>humidity</th>\n",
       "      <th>moisture</th>\n",
       "      <th>soil_sens</th>\n",
       "      <th>temperature</th>\n",
       "      <th>wind</th>\n",
       "      <th>light</th>\n",
       "      <th>date</th>\n",
       "      <th>time</th>\n",
       "    </tr>\n",
       "  </thead>\n",
       "  <tbody>\n",
       "    <tr>\n",
       "      <th>0</th>\n",
       "      <td>27.368090</td>\n",
       "      <td>72.0</td>\n",
       "      <td>38.599998</td>\n",
       "      <td>2077.600098</td>\n",
       "      <td>26.000000</td>\n",
       "      <td>12.553803</td>\n",
       "      <td>5.934079</td>\n",
       "      <td>2020-12-26</td>\n",
       "      <td>12:09:31</td>\n",
       "    </tr>\n",
       "    <tr>\n",
       "      <th>1</th>\n",
       "      <td>25.590635</td>\n",
       "      <td>73.0</td>\n",
       "      <td>37.900002</td>\n",
       "      <td>2083.399902</td>\n",
       "      <td>26.000000</td>\n",
       "      <td>13.458583</td>\n",
       "      <td>8.163333</td>\n",
       "      <td>2020-12-26</td>\n",
       "      <td>12:10:23</td>\n",
       "    </tr>\n",
       "    <tr>\n",
       "      <th>2</th>\n",
       "      <td>25.590635</td>\n",
       "      <td>72.0</td>\n",
       "      <td>37.900002</td>\n",
       "      <td>2085.699951</td>\n",
       "      <td>24.877772</td>\n",
       "      <td>3.153467</td>\n",
       "      <td>8.426666</td>\n",
       "      <td>2020-12-26</td>\n",
       "      <td>12:11:16</td>\n",
       "    </tr>\n",
       "    <tr>\n",
       "      <th>3</th>\n",
       "      <td>27.368090</td>\n",
       "      <td>72.0</td>\n",
       "      <td>38.299999</td>\n",
       "      <td>2085.300049</td>\n",
       "      <td>26.000000</td>\n",
       "      <td>13.910973</td>\n",
       "      <td>7.373333</td>\n",
       "      <td>2020-12-26</td>\n",
       "      <td>12:11:52</td>\n",
       "    </tr>\n",
       "    <tr>\n",
       "      <th>4</th>\n",
       "      <td>27.368090</td>\n",
       "      <td>72.0</td>\n",
       "      <td>38.099998</td>\n",
       "      <td>2077.600098</td>\n",
       "      <td>26.000000</td>\n",
       "      <td>12.044867</td>\n",
       "      <td>7.241666</td>\n",
       "      <td>2020-12-26</td>\n",
       "      <td>12:12:47</td>\n",
       "    </tr>\n",
       "  </tbody>\n",
       "</table>\n",
       "</div>"
      ],
      "text/plain": [
       "   heat index  humidity   moisture    soil_sens  temperature       wind  \\\n",
       "0   27.368090      72.0  38.599998  2077.600098    26.000000  12.553803   \n",
       "1   25.590635      73.0  37.900002  2083.399902    26.000000  13.458583   \n",
       "2   25.590635      72.0  37.900002  2085.699951    24.877772   3.153467   \n",
       "3   27.368090      72.0  38.299999  2085.300049    26.000000  13.910973   \n",
       "4   27.368090      72.0  38.099998  2077.600098    26.000000  12.044867   \n",
       "\n",
       "      light        date      time  \n",
       "0  5.934079  2020-12-26  12:09:31  \n",
       "1  8.163333  2020-12-26  12:10:23  \n",
       "2  8.426666  2020-12-26  12:11:16  \n",
       "3  7.373333  2020-12-26  12:11:52  \n",
       "4  7.241666  2020-12-26  12:12:47  "
      ]
     },
     "execution_count": 3,
     "metadata": {},
     "output_type": "execute_result"
    }
   ],
   "source": [
    "#LOAD DATASET\n",
    "data_all = pd.read_pickle('choy_data.pkl')\n",
    "data_all.head()"
   ]
  },
  {
   "cell_type": "code",
   "execution_count": 4,
   "metadata": {
    "scrolled": true
   },
   "outputs": [
    {
     "data": {
      "text/html": [
       "<div>\n",
       "<style scoped>\n",
       "    .dataframe tbody tr th:only-of-type {\n",
       "        vertical-align: middle;\n",
       "    }\n",
       "\n",
       "    .dataframe tbody tr th {\n",
       "        vertical-align: top;\n",
       "    }\n",
       "\n",
       "    .dataframe thead th {\n",
       "        text-align: right;\n",
       "    }\n",
       "</style>\n",
       "<table border=\"1\" class=\"dataframe\">\n",
       "  <thead>\n",
       "    <tr style=\"text-align: right;\">\n",
       "      <th></th>\n",
       "      <th>humidity</th>\n",
       "      <th>temperature</th>\n",
       "      <th>heat index</th>\n",
       "    </tr>\n",
       "  </thead>\n",
       "  <tbody>\n",
       "    <tr>\n",
       "      <th>0</th>\n",
       "      <td>72.0</td>\n",
       "      <td>26.000000</td>\n",
       "      <td>27.368090</td>\n",
       "    </tr>\n",
       "    <tr>\n",
       "      <th>1</th>\n",
       "      <td>73.0</td>\n",
       "      <td>26.000000</td>\n",
       "      <td>25.590635</td>\n",
       "    </tr>\n",
       "    <tr>\n",
       "      <th>2</th>\n",
       "      <td>72.0</td>\n",
       "      <td>24.877772</td>\n",
       "      <td>25.590635</td>\n",
       "    </tr>\n",
       "    <tr>\n",
       "      <th>3</th>\n",
       "      <td>72.0</td>\n",
       "      <td>26.000000</td>\n",
       "      <td>27.368090</td>\n",
       "    </tr>\n",
       "    <tr>\n",
       "      <th>4</th>\n",
       "      <td>72.0</td>\n",
       "      <td>26.000000</td>\n",
       "      <td>27.368090</td>\n",
       "    </tr>\n",
       "  </tbody>\n",
       "</table>\n",
       "</div>"
      ],
      "text/plain": [
       "   humidity  temperature  heat index\n",
       "0      72.0    26.000000   27.368090\n",
       "1      73.0    26.000000   25.590635\n",
       "2      72.0    24.877772   25.590635\n",
       "3      72.0    26.000000   27.368090\n",
       "4      72.0    26.000000   27.368090"
      ]
     },
     "execution_count": 4,
     "metadata": {},
     "output_type": "execute_result"
    }
   ],
   "source": [
    "data = data_all.copy()\n",
    "data = data[['humidity','temperature','heat index']]\n",
    "data.head()"
   ]
  },
  {
   "cell_type": "markdown",
   "metadata": {},
   "source": [
    "### Data Cleaning"
   ]
  },
  {
   "cell_type": "code",
   "execution_count": 5,
   "metadata": {},
   "outputs": [],
   "source": [
    "\n",
    "def identify_outliers(data):\n",
    "    q1, q3 = data.quantile(0.25), data.quantile(0.75)\n",
    "    iqr = q3 - q1\n",
    "    cut_off = iqr * 1.5\n",
    "    data_clean = data[~((data < (q1 - cut_off)) |(data > (q3 + cut_off))).any(axis=1)]\n",
    "    return data_clean\n",
    "data = identify_outliers(data)"
   ]
  },
  {
   "cell_type": "code",
   "execution_count": 6,
   "metadata": {},
   "outputs": [],
   "source": [
    "#pd.plotting.scatter_matrix(data, diagonal='kde', figsize=(10,8) );"
   ]
  },
  {
   "cell_type": "code",
   "execution_count": 7,
   "metadata": {
    "scrolled": true
   },
   "outputs": [],
   "source": [
    "#graph4 = data.boxplot(grid=False,fontsize=12, figsize=(8, 6))\n",
    "#fig4 = graph4.get_figure()\n",
    "#fig4.savefig(\"boxplot2.png\")"
   ]
  },
  {
   "cell_type": "code",
   "execution_count": 8,
   "metadata": {},
   "outputs": [],
   "source": [
    "#def boxplt(data):\n",
    "#    fig, (ax1, ax2, ax3) = plt.subplots(1, 3, sharex=True, figsize=(10,6))\n",
    "#    axs = [ax1,ax2,ax3]\n",
    "#    x = np.arange(data.shape[0])\n",
    "#\n",
    "#    for n in range(0,len(axs)):\n",
    "#        axs[n].boxplot(data.iloc[:,n])\n",
    "#        axs[n].set_title(data.columns[n])\n",
    "#\n",
    "#boxplt(data)"
   ]
  },
  {
   "cell_type": "code",
   "execution_count": 15,
   "metadata": {},
   "outputs": [
    {
     "data": {
      "text/html": [
       "<div>\n",
       "<style scoped>\n",
       "    .dataframe tbody tr th:only-of-type {\n",
       "        vertical-align: middle;\n",
       "    }\n",
       "\n",
       "    .dataframe tbody tr th {\n",
       "        vertical-align: top;\n",
       "    }\n",
       "\n",
       "    .dataframe thead th {\n",
       "        text-align: right;\n",
       "    }\n",
       "</style>\n",
       "<table border=\"1\" class=\"dataframe\">\n",
       "  <thead>\n",
       "    <tr style=\"text-align: right;\">\n",
       "      <th></th>\n",
       "      <th>humidity</th>\n",
       "      <th>temperature</th>\n",
       "      <th>heat</th>\n",
       "    </tr>\n",
       "  </thead>\n",
       "  <tbody>\n",
       "    <tr>\n",
       "      <th>count</th>\n",
       "      <td>19717.000000</td>\n",
       "      <td>19717.000000</td>\n",
       "      <td>19717.000000</td>\n",
       "    </tr>\n",
       "    <tr>\n",
       "      <th>mean</th>\n",
       "      <td>76.485849</td>\n",
       "      <td>24.622391</td>\n",
       "      <td>25.099488</td>\n",
       "    </tr>\n",
       "    <tr>\n",
       "      <th>std</th>\n",
       "      <td>2.752027</td>\n",
       "      <td>0.543842</td>\n",
       "      <td>0.522000</td>\n",
       "    </tr>\n",
       "    <tr>\n",
       "      <th>min</th>\n",
       "      <td>68.000000</td>\n",
       "      <td>23.000000</td>\n",
       "      <td>23.300000</td>\n",
       "    </tr>\n",
       "    <tr>\n",
       "      <th>25%</th>\n",
       "      <td>75.000000</td>\n",
       "      <td>24.000000</td>\n",
       "      <td>24.500000</td>\n",
       "    </tr>\n",
       "    <tr>\n",
       "      <th>50%</th>\n",
       "      <td>76.000000</td>\n",
       "      <td>25.000000</td>\n",
       "      <td>25.500000</td>\n",
       "    </tr>\n",
       "    <tr>\n",
       "      <th>75%</th>\n",
       "      <td>79.000000</td>\n",
       "      <td>25.000000</td>\n",
       "      <td>25.500000</td>\n",
       "    </tr>\n",
       "    <tr>\n",
       "      <th>max</th>\n",
       "      <td>84.000000</td>\n",
       "      <td>26.000000</td>\n",
       "      <td>25.700000</td>\n",
       "    </tr>\n",
       "  </tbody>\n",
       "</table>\n",
       "</div>"
      ],
      "text/plain": [
       "           humidity   temperature          heat\n",
       "count  19717.000000  19717.000000  19717.000000\n",
       "mean      76.485849     24.622391     25.099488\n",
       "std        2.752027      0.543842      0.522000\n",
       "min       68.000000     23.000000     23.300000\n",
       "25%       75.000000     24.000000     24.500000\n",
       "50%       76.000000     25.000000     25.500000\n",
       "75%       79.000000     25.000000     25.500000\n",
       "max       84.000000     26.000000     25.700000"
      ]
     },
     "execution_count": 15,
     "metadata": {},
     "output_type": "execute_result"
    }
   ],
   "source": [
    "data.describe()"
   ]
  },
  {
   "cell_type": "markdown",
   "metadata": {},
   "source": [
    "## Data Sampling"
   ]
  },
  {
   "cell_type": "code",
   "execution_count": 9,
   "metadata": {},
   "outputs": [],
   "source": [
    "data = data.rename(columns={'heat index': 'heat'})\n",
    "data.heat=data.heat.round(1)\n",
    "#hhdata.to_pickle('data_hth.pkl')"
   ]
  },
  {
   "cell_type": "code",
   "execution_count": 10,
   "metadata": {},
   "outputs": [],
   "source": [
    "#DIVIDE DATASET\n",
    "from sklearn.model_selection import train_test_split\n",
    "train_data, test_data = train_test_split(data, test_size=0.3, random_state=1)"
   ]
  },
  {
   "cell_type": "markdown",
   "metadata": {},
   "source": [
    "## Model Development"
   ]
  },
  {
   "cell_type": "code",
   "execution_count": 11,
   "metadata": {},
   "outputs": [
    {
     "data": {
      "text/html": [
       "<div>\n",
       "<style scoped>\n",
       "    .dataframe tbody tr th:only-of-type {\n",
       "        vertical-align: middle;\n",
       "    }\n",
       "\n",
       "    .dataframe tbody tr th {\n",
       "        vertical-align: top;\n",
       "    }\n",
       "\n",
       "    .dataframe thead th {\n",
       "        text-align: right;\n",
       "    }\n",
       "</style>\n",
       "<table border=\"1\" class=\"dataframe\">\n",
       "  <thead>\n",
       "    <tr style=\"text-align: right;\">\n",
       "      <th></th>\n",
       "      <th>humidity</th>\n",
       "      <th>temperature</th>\n",
       "      <th>heat</th>\n",
       "    </tr>\n",
       "  </thead>\n",
       "  <tbody>\n",
       "    <tr>\n",
       "      <th>max</th>\n",
       "      <td>84</td>\n",
       "      <td>26</td>\n",
       "      <td>25.7</td>\n",
       "    </tr>\n",
       "    <tr>\n",
       "      <th>min</th>\n",
       "      <td>68</td>\n",
       "      <td>23</td>\n",
       "      <td>23.3</td>\n",
       "    </tr>\n",
       "  </tbody>\n",
       "</table>\n",
       "</div>"
      ],
      "text/plain": [
       "    humidity temperature  heat\n",
       "max       84          26  25.7\n",
       "min       68          23  23.3"
      ]
     },
     "execution_count": 11,
     "metadata": {},
     "output_type": "execute_result"
    }
   ],
   "source": [
    "def get_range(data):\n",
    "    data_range = pd.DataFrame(columns = data.columns, index = ['max', 'min'])\n",
    "    data_range.loc['max'] = [data[col].max() for col in data.columns]\n",
    "    data_range.loc['min'] = [data[col].min() for col in data.columns]\n",
    "    return data_range\n",
    "\n",
    "range_df = get_range(data)\n",
    "range_df"
   ]
  },
  {
   "cell_type": "code",
   "execution_count": 12,
   "metadata": {},
   "outputs": [],
   "source": [
    "#SPECIFY UNIVERSE OF DISCOURSE\n",
    "universe = []\n",
    "for col in range_df.columns:\n",
    "        universe_col = np.arange(np.floor(range_df[col].min()), np.ceil(range_df[col].max()+1), 0.1)\n",
    "        universe.append(universe_col)"
   ]
  },
  {
   "cell_type": "code",
   "execution_count": 13,
   "metadata": {},
   "outputs": [],
   "source": [
    "# MEDIAN FUNCTION\n",
    "def med(l, u):\n",
    "    return np.median(np.arange(l, u, 0.1))"
   ]
  },
  {
   "cell_type": "code",
   "execution_count": 16,
   "metadata": {},
   "outputs": [
    {
     "name": "stderr",
     "output_type": "stream",
     "text": [
      "C:\\Python\\lib\\site-packages\\skfuzzy\\control\\fuzzyvariable.py:122: UserWarning: Matplotlib is currently using module://ipykernel.pylab.backend_inline, which is a non-GUI backend, so cannot show the figure.\n",
      "  fig.show()\n",
      "C:\\Python\\lib\\site-packages\\skfuzzy\\control\\fuzzyvariable.py:122: UserWarning: Matplotlib is currently using module://ipykernel.pylab.backend_inline, which is a non-GUI backend, so cannot show the figure.\n",
      "  fig.show()\n",
      "C:\\Python\\lib\\site-packages\\skfuzzy\\control\\fuzzyvariable.py:122: UserWarning: Matplotlib is currently using module://ipykernel.pylab.backend_inline, which is a non-GUI backend, so cannot show the figure.\n",
      "  fig.show()\n"
     ]
    },
    {
     "data": {
      "image/png": "[encoded data removed]",
      "text/plain": [
       "<Figure size 432x288 with 1 Axes>"
      ]
     },
     "metadata": {
      "needs_background": "light"
     },
     "output_type": "display_data"
    },
    {
     "data": {
      "image/png": "[encoded data removed]",
      "text/plain": [
       "<Figure size 432x288 with 1 Axes>"
      ]
     },
     "metadata": {
      "needs_background": "light"
     },
     "output_type": "display_data"
    },
    {
     "data": {
      "image/png": "[encoded data removed]",
      "text/plain": [
       "<Figure size 432x288 with 1 Axes>"
      ]
     },
     "metadata": {
      "needs_background": "light"
     },
     "output_type": "display_data"
    }
   ],
   "source": [
    "\n",
    "#Visualie membership fn\n",
    "\n",
    "humidity = ctrl.Antecedent(universe[0], 'relative humidity')\n",
    "temperature = ctrl.Antecedent(universe[1], 'temperature')\n",
    "heat = ctrl.Consequent(universe[2], 'heat index')\n",
    "\n",
    "#BUILD MEMBERSHIP FUNCTIONS\n",
    "humidity['low'] =     fuzz.trimf(universe[0], [68, 68, med(68,83)])\n",
    "humidity['mid'] =     fuzz.trimf(universe[0], [68, med(68,83), 84])\n",
    "humidity['high'] =     fuzz.trimf(universe[0], [med(68,83), 84, 84])\n",
    "\n",
    "temperature['low'] =  fuzz.trimf(universe[1],  [23, 23, med(23.1,26)])\n",
    "temperature['mid'] =  fuzz.trimf(universe[1],  [23, med(23.1,26), 26])\n",
    "temperature['high'] =  fuzz.trimf(universe[1], [med(23.1,26), 26, 26])\n",
    " \n",
    "heat['low'] =         fuzz.trimf(universe[2],  [23.3, 23.3, med(23.3,25.8)])\n",
    "heat['mid'] =         fuzz.trimf(universe[2],  [23.3, med(23.3,25.8), 25.7])\n",
    "heat['high'] =         fuzz.trimf(universe[2], [med(23.3,25.8), 25.7, 25.7])\n",
    "\n",
    "for i in range(1):\n",
    "    humidity.view()\n",
    "    temperature.view() \n",
    "    heat.view()"
   ]
  },
  {
   "cell_type": "code",
   "execution_count": 87,
   "metadata": {},
   "outputs": [],
   "source": [
    "hum_lo  = fuzz.trimf(universe[0], [68, 68, med(68,83)])\n",
    "hum_mid = fuzz.trimf(universe[0], [68, med(68,83), 84])\n",
    "hum_hi  =  fuzz.trimf(universe[0], [med(68,83), 84, 84])\n",
    "\n",
    "temp_lo  = fuzz.trimf(universe[1], [23, 23, med(23,26.1)])\n",
    "temp_mid = fuzz.trimf(universe[1], [23, med(23,26.1), 26])\n",
    "temp_hi  = fuzz.trimf(universe[1], [med(23,26.1), 26, 26])\n",
    "\n",
    "\n",
    "heat_lo  = fuzz.trimf(universe[2], [23.3, 23.3, med(23.3,25.8)])\n",
    "heat_mid = fuzz.trimf(universe[2], [23.3, med(23.3,25.8), 25.7])\n",
    "heat_hi  = fuzz.trimf(universe[2], [med(23.3,25.8), 25.7, 25.7])"
   ]
  },
  {
   "cell_type": "code",
   "execution_count": 96,
   "metadata": {},
   "outputs": [
    {
     "data": {
      "text/plain": [
       "24.50000000000002"
      ]
     },
     "execution_count": 96,
     "metadata": {},
     "output_type": "execute_result"
    }
   ],
   "source": [
    "med(23.1, 26)"
   ]
  },
  {
   "cell_type": "code",
   "execution_count": 16,
   "metadata": {},
   "outputs": [
    {
     "data": {
      "text/html": [
       "<div>\n",
       "<style scoped>\n",
       "    .dataframe tbody tr th:only-of-type {\n",
       "        vertical-align: middle;\n",
       "    }\n",
       "\n",
       "    .dataframe tbody tr th {\n",
       "        vertical-align: top;\n",
       "    }\n",
       "\n",
       "    .dataframe thead th {\n",
       "        text-align: right;\n",
       "    }\n",
       "</style>\n",
       "<table border=\"1\" class=\"dataframe\">\n",
       "  <thead>\n",
       "    <tr style=\"text-align: right;\">\n",
       "      <th></th>\n",
       "      <th>humidity</th>\n",
       "      <th>temperature</th>\n",
       "      <th>heat</th>\n",
       "    </tr>\n",
       "  </thead>\n",
       "  <tbody>\n",
       "    <tr>\n",
       "      <th>max</th>\n",
       "      <td>84</td>\n",
       "      <td>26</td>\n",
       "      <td>25.7</td>\n",
       "    </tr>\n",
       "    <tr>\n",
       "      <th>min</th>\n",
       "      <td>68</td>\n",
       "      <td>23</td>\n",
       "      <td>23.3</td>\n",
       "    </tr>\n",
       "  </tbody>\n",
       "</table>\n",
       "</div>"
      ],
      "text/plain": [
       "    humidity temperature  heat\n",
       "max       84          26  25.7\n",
       "min       68          23  23.3"
      ]
     },
     "execution_count": 16,
     "metadata": {},
     "output_type": "execute_result"
    }
   ],
   "source": [
    "range_df"
   ]
  },
  {
   "cell_type": "code",
   "execution_count": 18,
   "metadata": {
    "scrolled": true
   },
   "outputs": [
    {
     "data": {
      "text/html": [
       "<div>\n",
       "<style scoped>\n",
       "    .dataframe tbody tr th:only-of-type {\n",
       "        vertical-align: middle;\n",
       "    }\n",
       "\n",
       "    .dataframe tbody tr th {\n",
       "        vertical-align: top;\n",
       "    }\n",
       "\n",
       "    .dataframe thead th {\n",
       "        text-align: right;\n",
       "    }\n",
       "</style>\n",
       "<table border=\"1\" class=\"dataframe\">\n",
       "  <thead>\n",
       "    <tr style=\"text-align: right;\">\n",
       "      <th></th>\n",
       "      <th>humidity</th>\n",
       "      <th>low</th>\n",
       "      <th>mid</th>\n",
       "      <th>high</th>\n",
       "      <th>membership</th>\n",
       "      <th>degree</th>\n",
       "    </tr>\n",
       "  </thead>\n",
       "  <tbody>\n",
       "    <tr>\n",
       "      <th>6101</th>\n",
       "      <td>74.0</td>\n",
       "      <td>0.194631</td>\n",
       "      <td>0.805369</td>\n",
       "      <td>0.000000</td>\n",
       "      <td>mid</td>\n",
       "      <td>0.805369</td>\n",
       "    </tr>\n",
       "    <tr>\n",
       "      <th>9966</th>\n",
       "      <td>76.0</td>\n",
       "      <td>0.000000</td>\n",
       "      <td>0.935673</td>\n",
       "      <td>0.064327</td>\n",
       "      <td>mid</td>\n",
       "      <td>0.935673</td>\n",
       "    </tr>\n",
       "    <tr>\n",
       "      <th>14034</th>\n",
       "      <td>79.0</td>\n",
       "      <td>0.000000</td>\n",
       "      <td>0.584795</td>\n",
       "      <td>0.415205</td>\n",
       "      <td>mid</td>\n",
       "      <td>0.584795</td>\n",
       "    </tr>\n",
       "    <tr>\n",
       "      <th>21924</th>\n",
       "      <td>77.0</td>\n",
       "      <td>0.000000</td>\n",
       "      <td>0.818713</td>\n",
       "      <td>0.181287</td>\n",
       "      <td>mid</td>\n",
       "      <td>0.818713</td>\n",
       "    </tr>\n",
       "    <tr>\n",
       "      <th>14190</th>\n",
       "      <td>76.0</td>\n",
       "      <td>0.000000</td>\n",
       "      <td>0.935673</td>\n",
       "      <td>0.064327</td>\n",
       "      <td>mid</td>\n",
       "      <td>0.935673</td>\n",
       "    </tr>\n",
       "    <tr>\n",
       "      <th>...</th>\n",
       "      <td>...</td>\n",
       "      <td>...</td>\n",
       "      <td>...</td>\n",
       "      <td>...</td>\n",
       "      <td>...</td>\n",
       "      <td>...</td>\n",
       "    </tr>\n",
       "    <tr>\n",
       "      <th>13762</th>\n",
       "      <td>83.0</td>\n",
       "      <td>0.000000</td>\n",
       "      <td>0.116959</td>\n",
       "      <td>0.883041</td>\n",
       "      <td>high</td>\n",
       "      <td>0.883041</td>\n",
       "    </tr>\n",
       "    <tr>\n",
       "      <th>20724</th>\n",
       "      <td>77.0</td>\n",
       "      <td>0.000000</td>\n",
       "      <td>0.818713</td>\n",
       "      <td>0.181287</td>\n",
       "      <td>mid</td>\n",
       "      <td>0.818713</td>\n",
       "    </tr>\n",
       "    <tr>\n",
       "      <th>6495</th>\n",
       "      <td>74.0</td>\n",
       "      <td>0.194631</td>\n",
       "      <td>0.805369</td>\n",
       "      <td>0.000000</td>\n",
       "      <td>mid</td>\n",
       "      <td>0.805369</td>\n",
       "    </tr>\n",
       "    <tr>\n",
       "      <th>15192</th>\n",
       "      <td>80.0</td>\n",
       "      <td>0.000000</td>\n",
       "      <td>0.467836</td>\n",
       "      <td>0.532164</td>\n",
       "      <td>high</td>\n",
       "      <td>0.532164</td>\n",
       "    </tr>\n",
       "    <tr>\n",
       "      <th>386</th>\n",
       "      <td>75.0</td>\n",
       "      <td>0.060403</td>\n",
       "      <td>0.939597</td>\n",
       "      <td>0.000000</td>\n",
       "      <td>mid</td>\n",
       "      <td>0.939597</td>\n",
       "    </tr>\n",
       "  </tbody>\n",
       "</table>\n",
       "<p>13801 rows × 6 columns</p>\n",
       "</div>"
      ],
      "text/plain": [
       "       humidity       low       mid      high membership    degree\n",
       "6101       74.0  0.194631  0.805369  0.000000        mid  0.805369\n",
       "9966       76.0  0.000000  0.935673  0.064327        mid  0.935673\n",
       "14034      79.0  0.000000  0.584795  0.415205        mid  0.584795\n",
       "21924      77.0  0.000000  0.818713  0.181287        mid  0.818713\n",
       "14190      76.0  0.000000  0.935673  0.064327        mid  0.935673\n",
       "...         ...       ...       ...       ...        ...       ...\n",
       "13762      83.0  0.000000  0.116959  0.883041       high  0.883041\n",
       "20724      77.0  0.000000  0.818713  0.181287        mid  0.818713\n",
       "6495       74.0  0.194631  0.805369  0.000000        mid  0.805369\n",
       "15192      80.0  0.000000  0.467836  0.532164       high  0.532164\n",
       "386        75.0  0.060403  0.939597  0.000000        mid  0.939597\n",
       "\n",
       "[13801 rows x 6 columns]"
      ]
     },
     "execution_count": 18,
     "metadata": {},
     "output_type": "execute_result"
    }
   ],
   "source": [
    "#FUZZIFY  TRAIN SET HUMIDITY\n",
    "def fuzzify_hum(hum_val):\n",
    "    hum_df = pd.DataFrame(hum_val)\n",
    "    hum_df['low'] = fuzz.interp_membership(universe[0], hum_lo, hum_val)\n",
    "    hum_df['mid'] = fuzz.interp_membership(universe[0], hum_mid, hum_val)\n",
    "    hum_df['high'] = fuzz.interp_membership(universe[0], hum_hi, hum_val)\n",
    "\n",
    "    hum_df['membership'] = hum_df.loc[:, ['low', 'mid', 'high']].idxmax(axis = 1)\n",
    "    hum_df['degree'] = hum_df.loc[:, ['low', 'mid', 'high']].max(axis = 1)\n",
    "    return hum_df\n",
    "\n",
    "hum_val = train_data.iloc[:,0]\n",
    "hum_df = fuzzify_hum(hum_val)\n",
    "hum_df"
   ]
  },
  {
   "cell_type": "code",
   "execution_count": 19,
   "metadata": {},
   "outputs": [
    {
     "data": {
      "text/plain": [
       "membership\n",
       "high     2579\n",
       "low       417\n",
       "mid     10805\n",
       "Name: membership, dtype: int64"
      ]
     },
     "execution_count": 19,
     "metadata": {},
     "output_type": "execute_result"
    }
   ],
   "source": [
    "hum_df.groupby(by='membership')['membership'].count()"
   ]
  },
  {
   "cell_type": "code",
   "execution_count": 1,
   "metadata": {
    "scrolled": true
   },
   "outputs": [
    {
     "ename": "NameError",
     "evalue": "name 'train_data' is not defined",
     "output_type": "error",
     "traceback": [
      "\u001b[1;31m---------------------------------------------------------------------------\u001b[0m",
      "\u001b[1;31mNameError\u001b[0m                                 Traceback (most recent call last)",
      "\u001b[1;32m<ipython-input-1-40c3b6b97c3a>\u001b[0m in \u001b[0;36m<module>\u001b[1;34m\u001b[0m\n\u001b[0;32m     10\u001b[0m     \u001b[0mtemp_df\u001b[0m\u001b[1;33m[\u001b[0m\u001b[1;34m'degree'\u001b[0m\u001b[1;33m]\u001b[0m \u001b[1;33m=\u001b[0m \u001b[0mtemp_df\u001b[0m\u001b[1;33m.\u001b[0m\u001b[0mloc\u001b[0m\u001b[1;33m[\u001b[0m\u001b[1;33m:\u001b[0m\u001b[1;33m,\u001b[0m \u001b[1;33m[\u001b[0m\u001b[1;34m'low'\u001b[0m\u001b[1;33m,\u001b[0m \u001b[1;34m'mid'\u001b[0m\u001b[1;33m,\u001b[0m \u001b[1;34m'high'\u001b[0m\u001b[1;33m]\u001b[0m\u001b[1;33m]\u001b[0m\u001b[1;33m.\u001b[0m\u001b[0mmax\u001b[0m\u001b[1;33m(\u001b[0m\u001b[0maxis\u001b[0m \u001b[1;33m=\u001b[0m \u001b[1;36m1\u001b[0m\u001b[1;33m)\u001b[0m\u001b[1;33m\u001b[0m\u001b[1;33m\u001b[0m\u001b[0m\n\u001b[0;32m     11\u001b[0m     \u001b[1;32mreturn\u001b[0m \u001b[0mtemp_df\u001b[0m\u001b[1;33m\u001b[0m\u001b[1;33m\u001b[0m\u001b[0m\n\u001b[1;32m---> 12\u001b[1;33m \u001b[0mtemp_val\u001b[0m  \u001b[1;33m=\u001b[0m \u001b[0mtrain_data\u001b[0m\u001b[1;33m.\u001b[0m\u001b[0miloc\u001b[0m\u001b[1;33m[\u001b[0m\u001b[1;33m:\u001b[0m\u001b[1;33m,\u001b[0m\u001b[1;36m1\u001b[0m\u001b[1;33m]\u001b[0m\u001b[1;33m\u001b[0m\u001b[1;33m\u001b[0m\u001b[0m\n\u001b[0m\u001b[0;32m     13\u001b[0m \u001b[0mtemp_df\u001b[0m \u001b[1;33m=\u001b[0m \u001b[0mfuzzify_temp\u001b[0m\u001b[1;33m(\u001b[0m\u001b[0mtemp_val\u001b[0m\u001b[1;33m)\u001b[0m\u001b[1;33m\u001b[0m\u001b[1;33m\u001b[0m\u001b[0m\n\u001b[0;32m     14\u001b[0m \u001b[0mtemp_df\u001b[0m\u001b[1;33m;\u001b[0m\u001b[1;33m\u001b[0m\u001b[1;33m\u001b[0m\u001b[0m\n",
      "\u001b[1;31mNameError\u001b[0m: name 'train_data' is not defined"
     ]
    }
   ],
   "source": [
    "#FUZZIFY TRAIN SET TEMPERATURE\n",
    " \n",
    "def fuzzify_temp(temp_val):\n",
    "    temp_df = pd.DataFrame(temp_val)\n",
    "    temp_df['low'] = fuzz.interp_membership(universe[1], temp_lo, temp_val)\n",
    "    temp_df['mid'] = fuzz.interp_membership(universe[1], temp_mid, temp_val)\n",
    "    temp_df['high'] = fuzz.interp_membership(universe[1], temp_hi, temp_val)\n",
    "\n",
    "    temp_df['membership'] = temp_df.loc[:, ['low', 'mid', 'high']].idxmax(axis = 1)\n",
    "    temp_df['degree'] = temp_df.loc[:, ['low', 'mid', 'high']].max(axis = 1)\n",
    "    return temp_df\n",
    "temp_val  = train_data.iloc[:,1]       \n",
    "temp_df = fuzzify_temp(temp_val)\n",
    "temp_df;"
   ]
  },
  {
   "cell_type": "code",
   "execution_count": 21,
   "metadata": {},
   "outputs": [
    {
     "data": {
      "text/plain": [
       "membership\n",
       "high      433\n",
       "low        10\n",
       "mid     13358\n",
       "Name: membership, dtype: int64"
      ]
     },
     "execution_count": 21,
     "metadata": {},
     "output_type": "execute_result"
    }
   ],
   "source": [
    "temp_df.groupby(by='membership')['membership'].count()"
   ]
  },
  {
   "cell_type": "code",
   "execution_count": 22,
   "metadata": {
    "scrolled": true
   },
   "outputs": [],
   "source": [
    "#FUZZIFY TRAIN SET LIGHT INTENSITY\n",
    "def fuzzify_heat(heat_val):\n",
    "    heat_df = pd.DataFrame(heat_val)\n",
    "    heat_df['low'] = fuzz.interp_membership(universe[2], heat_lo, heat_val)\n",
    "    heat_df['mid'] = fuzz.interp_membership(universe[2], heat_mid,heat_val)\n",
    "    heat_df['high'] = fuzz.interp_membership(universe[2],heat_hi, heat_val)\n",
    "\n",
    "    heat_df['membership'] = heat_df.loc[:, ['low', 'mid', 'high']].idxmax(axis = 1)\n",
    "    heat_df['degree'] = heat_df.loc[:, ['low', 'mid', 'high']].max(axis = 1)\n",
    "    return heat_df\n",
    "heat_val = train_data.iloc[:,2]\n",
    "heat_df = fuzzify_heat(heat_val)\n",
    "heat_df;"
   ]
  },
  {
   "cell_type": "code",
   "execution_count": 23,
   "metadata": {},
   "outputs": [
    {
     "data": {
      "text/plain": [
       "membership\n",
       "high    8194\n",
       "low       10\n",
       "mid     5597\n",
       "Name: membership, dtype: int64"
      ]
     },
     "execution_count": 23,
     "metadata": {},
     "output_type": "execute_result"
    }
   ],
   "source": [
    "heat_df.groupby(by='membership')['membership'].count()"
   ]
  },
  {
   "cell_type": "code",
   "execution_count": 24,
   "metadata": {},
   "outputs": [],
   "source": [
    "# Merge the membership columns from predictors and target to get an initial rule set\n",
    "#----convert numerical values to linguistic values\n",
    "\n",
    "\n",
    "def merge_rule(df, hum_df, temp_df, heat_df):\n",
    "    rule_df = df.copy()\n",
    "    rule_df['humidity'] = hum_df['membership']\n",
    "    rule_df['temperature'] = temp_df['membership']\n",
    "    rule_df['heat'] = heat_df['membership']\n",
    "    rule_df['degree'] = hum_df['degree']*temp_df['degree']*heat_df['degree']\n",
    "    return rule_df\n",
    " \n",
    "rule_df = merge_rule(train_data, hum_df, temp_df, heat_df)\n",
    "rule_df;"
   ]
  },
  {
   "cell_type": "code",
   "execution_count": 25,
   "metadata": {},
   "outputs": [],
   "source": [
    "train_data;"
   ]
  },
  {
   "cell_type": "code",
   "execution_count": 26,
   "metadata": {},
   "outputs": [],
   "source": [
    "#Resolve conflicts to get a final rule set\n",
    "\n",
    "rule_fuzzy = rule_df.groupby(['humidity', 'temperature']).max()\n",
    "rule_fuzzy = rule_fuzzy.reset_index()\n",
    "rule_fuzzy_deg = rule_fuzzy.pop('degree')\n",
    "rule_fuzzy\n",
    "rule_fuzzy.to_pickle('frule.pkl')"
   ]
  },
  {
   "cell_type": "code",
   "execution_count": 27,
   "metadata": {},
   "outputs": [
    {
     "data": {
      "text/html": [
       "<div>\n",
       "<style scoped>\n",
       "    .dataframe tbody tr th:only-of-type {\n",
       "        vertical-align: middle;\n",
       "    }\n",
       "\n",
       "    .dataframe tbody tr th {\n",
       "        vertical-align: top;\n",
       "    }\n",
       "\n",
       "    .dataframe thead th {\n",
       "        text-align: right;\n",
       "    }\n",
       "</style>\n",
       "<table border=\"1\" class=\"dataframe\">\n",
       "  <thead>\n",
       "    <tr style=\"text-align: right;\">\n",
       "      <th></th>\n",
       "      <th>humidity</th>\n",
       "      <th>temperature</th>\n",
       "      <th>heat</th>\n",
       "    </tr>\n",
       "  </thead>\n",
       "  <tbody>\n",
       "    <tr>\n",
       "      <th>0</th>\n",
       "      <td>high</td>\n",
       "      <td>low</td>\n",
       "      <td>low</td>\n",
       "    </tr>\n",
       "    <tr>\n",
       "      <th>1</th>\n",
       "      <td>high</td>\n",
       "      <td>mid</td>\n",
       "      <td>mid</td>\n",
       "    </tr>\n",
       "    <tr>\n",
       "      <th>2</th>\n",
       "      <td>low</td>\n",
       "      <td>mid</td>\n",
       "      <td>mid</td>\n",
       "    </tr>\n",
       "    <tr>\n",
       "      <th>3</th>\n",
       "      <td>mid</td>\n",
       "      <td>high</td>\n",
       "      <td>high</td>\n",
       "    </tr>\n",
       "    <tr>\n",
       "      <th>4</th>\n",
       "      <td>mid</td>\n",
       "      <td>low</td>\n",
       "      <td>low</td>\n",
       "    </tr>\n",
       "    <tr>\n",
       "      <th>5</th>\n",
       "      <td>mid</td>\n",
       "      <td>mid</td>\n",
       "      <td>mid</td>\n",
       "    </tr>\n",
       "  </tbody>\n",
       "</table>\n",
       "</div>"
      ],
      "text/plain": [
       "  humidity temperature  heat\n",
       "0     high         low   low\n",
       "1     high         mid   mid\n",
       "2      low         mid   mid\n",
       "3      mid        high  high\n",
       "4      mid         low   low\n",
       "5      mid         mid   mid"
      ]
     },
     "execution_count": 27,
     "metadata": {},
     "output_type": "execute_result"
    }
   ],
   "source": [
    "rule_fuzzy"
   ]
  },
  {
   "cell_type": "code",
   "execution_count": 28,
   "metadata": {},
   "outputs": [
    {
     "data": {
      "text/html": [
       "<div>\n",
       "<style scoped>\n",
       "    .dataframe tbody tr th:only-of-type {\n",
       "        vertical-align: middle;\n",
       "    }\n",
       "\n",
       "    .dataframe tbody tr th {\n",
       "        vertical-align: top;\n",
       "    }\n",
       "\n",
       "    .dataframe thead th {\n",
       "        text-align: right;\n",
       "    }\n",
       "</style>\n",
       "<table border=\"1\" class=\"dataframe\">\n",
       "  <thead>\n",
       "    <tr style=\"text-align: right;\">\n",
       "      <th>humidity</th>\n",
       "      <th>high</th>\n",
       "      <th>low</th>\n",
       "      <th>mid</th>\n",
       "    </tr>\n",
       "    <tr>\n",
       "      <th>temperature</th>\n",
       "      <th></th>\n",
       "      <th></th>\n",
       "      <th></th>\n",
       "    </tr>\n",
       "  </thead>\n",
       "  <tbody>\n",
       "    <tr>\n",
       "      <th>high</th>\n",
       "      <td>NaN</td>\n",
       "      <td>NaN</td>\n",
       "      <td>high</td>\n",
       "    </tr>\n",
       "    <tr>\n",
       "      <th>low</th>\n",
       "      <td>low</td>\n",
       "      <td>NaN</td>\n",
       "      <td>low</td>\n",
       "    </tr>\n",
       "    <tr>\n",
       "      <th>mid</th>\n",
       "      <td>mid</td>\n",
       "      <td>mid</td>\n",
       "      <td>mid</td>\n",
       "    </tr>\n",
       "  </tbody>\n",
       "</table>\n",
       "</div>"
      ],
      "text/plain": [
       "humidity    high  low   mid\n",
       "temperature                \n",
       "high         NaN  NaN  high\n",
       "low          low  NaN   low\n",
       "mid          mid  mid   mid"
      ]
     },
     "execution_count": 28,
     "metadata": {},
     "output_type": "execute_result"
    }
   ],
   "source": [
    "frule_pvt = rule_fuzzy.pivot(index='temperature', columns='humidity', values='heat')\n",
    "frule_pvt"
   ]
  },
  {
   "cell_type": "markdown",
   "metadata": {},
   "source": [
    "## Predictive Modelling\n",
    "  "
   ]
  },
  {
   "cell_type": "code",
   "execution_count": 29,
   "metadata": {},
   "outputs": [],
   "source": [
    "#SET UP TEST DATA\n",
    "\n",
    "test_data.reset_index(drop=True, inplace=True)\n",
    "y_test = test_data.loc[:,'heat']\n",
    "test_data.to_pickle('test_data.pkl')"
   ]
  },
  {
   "cell_type": "code",
   "execution_count": 30,
   "metadata": {},
   "outputs": [],
   "source": [
    "#FUZZIFY TEST SET HUMIDITY VALUES\n",
    "\n",
    "test_hum_val = test_data.iloc[:,0]\n",
    "test_hum_df = fuzzify_hum(test_hum_val)\n",
    "test_hum_df;"
   ]
  },
  {
   "cell_type": "code",
   "execution_count": 31,
   "metadata": {
    "scrolled": true
   },
   "outputs": [],
   "source": [
    "#FUZZIFY TEST TEMPERATURE VALUES\n",
    "\n",
    "test_temp_val = test_data.iloc[:,1]\n",
    "test_temp_df = fuzzify_temp(test_temp_val)\n",
    "test_temp_df;"
   ]
  },
  {
   "cell_type": "code",
   "execution_count": 32,
   "metadata": {},
   "outputs": [],
   "source": [
    "#best score 0.5, 0.9, 0.0"
   ]
  },
  {
   "cell_type": "code",
   "execution_count": 33,
   "metadata": {
    "scrolled": true
   },
   "outputs": [
    {
     "data": {
      "text/plain": [
       "25.450000000000017"
      ]
     },
     "execution_count": 33,
     "metadata": {},
     "output_type": "execute_result"
    }
   ],
   "source": [
    "#DEFINE THE CENTER OF THE FUZZY REGIONS FOR TEMPERATURE\n",
    "\n",
    "def fuzzr_center(a):\n",
    "    if a == 'low':\n",
    "        return range_df.loc['min','heat']-0.6\n",
    "    if a == 'mid':\n",
    "        return med(range_df.loc['min','heat'], range_df.loc['max','heat'])+1\n",
    "    if a == 'high':\n",
    "        return range_df.loc['max','heat']+0.0\n",
    "fuzzr_center('mid')"
   ]
  },
  {
   "cell_type": "code",
   "execution_count": 34,
   "metadata": {},
   "outputs": [],
   "source": [
    "#PASS TEST DATA THROUGH EACH RULE AND AGGREGATE OUTPUT\n",
    "\n",
    "ynum = np.zeros([y_test.shape[0], rule_fuzzy.shape[0]])\n",
    "ydenom = np.zeros([y_test.shape[0], rule_fuzzy.shape[0]])\n",
    "for i, fser in test_data.iterrows():\n",
    "    for j, rser in rule_fuzzy.iterrows():\n",
    "        col = rser.values\n",
    "        rule_acx_num =test_hum_df.loc[i,col[0]] * test_temp_df.loc[i,col[1]]*fuzzr_center(col[2])\n",
    "        rule_acx_denom =test_hum_df.loc[i,col[0]]*test_temp_df.loc[i,col[1]]\n",
    "        ynum[i,j] = rule_acx_num\n",
    "        ydenom[i,j] = rule_acx_denom"
   ]
  },
  {
   "cell_type": "code",
   "execution_count": 35,
   "metadata": {},
   "outputs": [
    {
     "data": {
      "text/plain": [
       "array([24.47419355, 25.51650246, 25.52407407, ..., 24.47419355,\n",
       "       25.52429245, 25.49864865])"
      ]
     },
     "execution_count": 35,
     "metadata": {},
     "output_type": "execute_result"
    }
   ],
   "source": [
    "#COMPUTE THE PREDICTED TEMPERATURE\n",
    "sum_ynum = np.sum(ynum, axis=1)\n",
    "sum_ydenom = np.sum(ydenom, axis=1)\n",
    "y_pred = sum_ynum/sum_ydenom\n",
    "y_pred"
   ]
  },
  {
   "cell_type": "markdown",
   "metadata": {},
   "source": [
    "## Model Evaluation"
   ]
  },
  {
   "cell_type": "code",
   "execution_count": 36,
   "metadata": {},
   "outputs": [
    {
     "name": "stdout",
     "output_type": "stream",
     "text": [
      "$R^2$ 0.9740261121057313\n",
      "RMSE:  0.0842211160984931\n"
     ]
    }
   ],
   "source": [
    "from sklearn.metrics import r2_score, mean_squared_error\n",
    "model_r2 = r2_score(y_test, y_pred)\n",
    "model_mse = mean_squared_error(y_test, y_pred)\n",
    "print('$R^2$', model_r2)\n",
    "print('RMSE: ', np.sqrt(model_mse))"
   ]
  },
  {
   "cell_type": "code",
   "execution_count": 73,
   "metadata": {},
   "outputs": [
    {
     "data": {
      "image/png": "[encoded data removed]",
      "text/plain": [
       "<Figure size 576x288 with 1 Axes>"
      ]
     },
     "metadata": {
      "needs_background": "light"
     },
     "output_type": "display_data"
    }
   ],
   "source": [
    "plt.figure(figsize=(8,4))\n",
    "plt.plot(y_pred, linewidth=0.5, color='orange', label='prediction')\n",
    "plt.plot(y_test, linewidth=0.5, linestyle='-.', color='black', label='true value')\n",
    "plt.ylabel('heat index($^0C$)')\n",
    "plt.legend(loc='lower left')\n",
    "#plt.delaxes('top')\n",
    "plt.gca().spines['top'].set_visible(False)\n",
    "plt.gca().spines['right'].set_visible(False)\n",
    "plt.savefig('heat_time_series.png')"
   ]
  },
  {
   "cell_type": "markdown",
   "metadata": {},
   "source": [
    "## Performance Comparison"
   ]
  },
  {
   "cell_type": "code",
   "execution_count": 38,
   "metadata": {},
   "outputs": [
    {
     "data": {
      "text/plain": [
       "array([25.5, 25.5, 25.6, ..., 25.5, 24.5, 25.5])"
      ]
     },
     "execution_count": 38,
     "metadata": {},
     "output_type": "execute_result"
    }
   ],
   "source": [
    "# SET UP TRAIN DATA\n",
    "\n",
    "X_train = train_data.copy()\n",
    "y_train = X_train.pop('heat')\n",
    "X_train.to_numpy()\n",
    "y_train.to_numpy()"
   ]
  },
  {
   "cell_type": "code",
   "execution_count": 39,
   "metadata": {},
   "outputs": [
    {
     "data": {
      "text/plain": [
       "array([24.5, 25.5, 25.5, ..., 24.5, 25.5, 25.4])"
      ]
     },
     "execution_count": 39,
     "metadata": {},
     "output_type": "execute_result"
    }
   ],
   "source": [
    "#SET UP TEST DATA\n",
    "\n",
    "X_test = test_data.copy()\n",
    "y_test = X_test.pop('heat')\n",
    "X_test.to_numpy()\n",
    "y_test.to_numpy()"
   ]
  },
  {
   "cell_type": "code",
   "execution_count": 40,
   "metadata": {},
   "outputs": [],
   "source": [
    "from sklearn.metrics import r2_score\n",
    "from sklearn.model_selection import train_test_split\n",
    "from sklearn.metrics import mean_squared_error\n",
    "\n",
    "from sklearn.dummy import DummyRegressor\n",
    "from sklearn.linear_model import LinearRegression\n",
    "from sklearn.linear_model import Ridge, Lasso\n",
    "from sklearn.ensemble import RandomForestRegressor"
   ]
  },
  {
   "cell_type": "code",
   "execution_count": 41,
   "metadata": {},
   "outputs": [],
   "source": [
    "model_names = ['Dummy', 'Linear', 'Lasso', 'Random Forest']\n",
    "\n",
    "models = [\n",
    "    DummyRegressor(strategy='median'),\n",
    "    LinearRegression(fit_intercept=False),\n",
    "    Lasso(fit_intercept=False),\n",
    "    RandomForestRegressor(n_estimators=50, n_jobs=-1)\n",
    "    ]"
   ]
  },
  {
   "cell_type": "code",
   "execution_count": 42,
   "metadata": {},
   "outputs": [
    {
     "name": "stdout",
     "output_type": "stream",
     "text": [
      "Dummy -0.5877716486098139\n",
      "0.6584859803686967\n",
      "Linear 0.917549749906729\n",
      "0.15005431899227006\n",
      "Lasso -0.33868707436049283\n",
      "0.604633278321568\n",
      "Random Forest 1.0\n",
      "1.72154030752562e-13\n"
     ]
    }
   ],
   "source": [
    "for name, model in zip(model_names, models):\n",
    "    model.fit(X_train, y_train)\n",
    "    y_predd=model.predict(X_test)\n",
    "    print(name, r2_score(y_test, y_predd))\n",
    "    print(np.sqrt(mean_squared_error(y_test, y_predd)))\n",
    "    "
   ]
  },
  {
   "cell_type": "code",
   "execution_count": 43,
   "metadata": {},
   "outputs": [
    {
     "data": {
      "text/plain": [
       "(array([222900.85730462]), array([0.]))"
      ]
     },
     "execution_count": 43,
     "metadata": {},
     "output_type": "execute_result"
    }
   ],
   "source": [
    "y_pred = y_pred.reshape(-1, 1)\n",
    "from sklearn.feature_selection import chi2, f_regression\n",
    "f_stat = f_regression(y_pred, y_test)\n",
    "f_stat"
   ]
  },
  {
   "cell_type": "code",
   "execution_count": 54,
   "metadata": {},
   "outputs": [
    {
     "data": {
      "text/plain": [
       "0.33555088218606705"
      ]
     },
     "execution_count": 54,
     "metadata": {},
     "output_type": "execute_result"
    }
   ],
   "source": [
    "#Percent error\n",
    "mean_hi = y_test.mean()\n",
    "rmse = np.sqrt(model_mse)\n",
    "percent_err = (rmse/mean_hi)*100\n",
    "percent_err"
   ]
  },
  {
   "cell_type": "code",
   "execution_count": 52,
   "metadata": {},
   "outputs": [
    {
     "data": {
      "text/plain": [
       "0.39841657025021393"
      ]
     },
     "execution_count": 52,
     "metadata": {},
     "output_type": "execute_result"
    }
   ],
   "source": [
    "0.1/mean_hi*100"
   ]
  },
  {
   "cell_type": "code",
   "execution_count": 53,
   "metadata": {},
   "outputs": [
    {
     "data": {
      "text/plain": [
       "0.9740261121057313"
      ]
     },
     "execution_count": 53,
     "metadata": {},
     "output_type": "execute_result"
    }
   ],
   "source": [
    "model_r2"
   ]
  },
  {
   "cell_type": "code",
   "execution_count": 62,
   "metadata": {},
   "outputs": [],
   "source": [
    "#hi = pd.DataFrame(y_test)\n",
    "#hi['prediction'] = y_pred\n",
    "#hi.rename(columns = {'heat': 'true value'}, inplace=True)\n",
    "#hi.head()"
   ]
  },
  {
   "cell_type": "code",
   "execution_count": 61,
   "metadata": {
    "scrolled": true
   },
   "outputs": [],
   "source": [
    "#hi_box = hi.boxplot(grid=False,fontsize=12, figsize=(8, 6))\n",
    "#hi_fig = hi_box.get_figure()\n",
    "#fig4.savefig(\"boxplot2.png\")"
   ]
  },
  {
   "cell_type": "code",
   "execution_count": 45,
   "metadata": {},
   "outputs": [],
   "source": [
    "#res = y_test - y_pred\n",
    "#plt.scatter(y_pred, res, color='black')\n",
    "#plt.axhline(linewidth=2, color='grey')"
   ]
  },
  {
   "cell_type": "code",
   "execution_count": 46,
   "metadata": {},
   "outputs": [],
   "source": [
    "#plt.hist(res, 50, facecolor='black');\n",
    "#\n",
    "#plt.xlabel('Residual')\n",
    "#plt.ylabel('Frequency')"
   ]
  },
  {
   "cell_type": "code",
   "execution_count": 47,
   "metadata": {},
   "outputs": [],
   "source": [
    "#from pandas.plotting import table \n",
    "#\n",
    "#hi_hum = data[data.humidity==data.humidity.max()]\n",
    "#\n",
    "#fig = plt.figure(figsize=(8, 12))\n",
    "##ax = plt.subplot(111, frame_on=False) \n",
    "##ax.xaxis.set_visible(False) \n",
    "##ax.yaxis.set_visible(False)  \n",
    "#ax.table(cellText=hi_hum.values, cellLoc='center', colLabels=['Relative humidity', 'Temperature', 'Heat Index']) \n",
    "#plt.show()\n",
    "##plt.savefig('hi_hum.jpg')\n",
    "#"
   ]
  },
  {
   "cell_type": "code",
   "execution_count": 48,
   "metadata": {},
   "outputs": [],
   "source": []
  },
  {
   "cell_type": "code",
   "execution_count": 50,
   "metadata": {
    "scrolled": true
   },
   "outputs": [],
   "source": [
    "#def chi_square(obs, exp):\n",
    "#    chi2 = 0\n",
    "#    for i in range(obs.shape[0]):\n",
    "#        chii = (obs[i]-exp[i])**2/exp[i]\n",
    "#        chi2 += chii\n",
    "#chi_square()"
   ]
  }
 ],
 "metadata": {
  "kernelspec": {
   "display_name": "Python 3",
   "language": "python",
   "name": "python3"
  },
  "language_info": {
   "codemirror_mode": {
    "name": "ipython",
    "version": 3
   },
   "file_extension": ".py",
   "mimetype": "text/x-python",
   "name": "python",
   "nbconvert_exporter": "python",
   "pygments_lexer": "ipython3",
   "version": "3.7.1"
  }
 },
 "nbformat": 4,
 "nbformat_minor": 4
}
